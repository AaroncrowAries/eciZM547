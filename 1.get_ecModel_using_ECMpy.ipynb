{
 "cells": [
  {
   "cell_type": "markdown",
   "id": "5d504f66",
   "metadata": {},
   "source": [
    "## Import related functions"
   ]
  },
  {
   "cell_type": "code",
   "execution_count": 7,
   "id": "e09f8bb6",
   "metadata": {},
   "outputs": [],
   "source": [
    "import cobra\n",
    "import re \n",
    "#from script.ECMpy_function import *\n",
    "import sys\n",
    "sys.path.append(r'./script/')\n",
    "from ECMpy_function import *\n",
    "import numpy as np"
   ]
  },
  {
   "cell_type": "markdown",
   "id": "eced66b0",
   "metadata": {},
   "source": [
    "## Input and output files"
   ]
  },
  {
   "cell_type": "code",
   "execution_count": 10,
   "id": "efb97ae1",
   "metadata": {},
   "outputs": [],
   "source": [
    "# reaction kcat_mw\n",
    "sbml_path = \"./data/iZM547.xml\"\n",
    "taxonom_id=264203\n",
    "method='AutoPACMEN' #AutoPACMEN #AutoPACMEN_mean #DLkcat # TurNup # UniKP\n",
    "reaction_kcat_MW_file = \"./analysis/get_kcat_mw_by_%s/reaction_kcat_MW.csv\"%method\n",
    "#paxdb丰度数据\n",
    "# gene_abundance_colname='abundance(ppm)'\n",
    "# gene_abundance_file='./data/PXD030417_protein_abundance.abu' # calculated from https://pax-db.org/download\n",
    "# #The enzyme mass fraction,calculated as 0.45387051337830087  proteome calculation result\n",
    "f = 0.45387051337830087  # 蛋白组计算\n",
    "#Initial parameters\n",
    "ptot = 0.605 # The total protein fraction in cell.\n",
    "sigma = 0.5 # The approximated saturation of enzyme.e.g.,0.5/1.\n",
    "lowerbound = 0   # Lowerbound  of enzyme concentration constraint. \n",
    "upperbound = round(ptot * f * sigma, 3)#total enzyme\n",
    "concentration = 40 # glucose uptake rate of q = 41.8 mmol/gdw/h   10.1016/j.ymben.2019.05.006\n",
    "ecModel_output_file=\"./model/iZM547_\"+ method +\".json\""
   ]
  },
  {
   "cell_type": "markdown",
   "id": "90648329",
   "metadata": {},
   "source": [
    "## Get ecModel and simulation"
   ]
  },
  {
   "cell_type": "code",
   "execution_count": 11,
   "id": "1aa03c90",
   "metadata": {},
   "outputs": [
    {
     "name": "stdout",
     "output_type": "stream",
     "text": [
      "0.5216633885328134\n"
     ]
    }
   ],
   "source": [
    "#Get ecModel\n",
    "trans_model2enz_json_model_split_isoenzyme(sbml_path, reaction_kcat_MW_file, f, ptot, sigma, lowerbound, upperbound, ecModel_output_file)\n",
    "\n",
    "#ecModel Simulation\n",
    "obj='ZM_BIOMASS'# CG_biomass_cgl_ATCC13032 EX_lys_L_e\n",
    "fluxes_outfile = \"./analysis/\"+ method+(\"ECMpy_solution_%s_pfba.csv\"%obj)\n",
    "use_substrate='EX_glc_D_e'\n",
    "enz_model=get_enzyme_constraint_model(ecModel_output_file)\n",
    "enz_model.objective=obj\n",
    "\n",
    "# change original substrate in model\n",
    "[ori_obj_id,ori_substrate_id_list,ori_sub_concentration,ori_ATPM]=get_model_substrate_obj(enz_model)\n",
    "for eachsubid in ori_substrate_id_list:\n",
    "    if re.search('_reverse',eachsubid):\n",
    "        r_id_new=eachsubid.split('_reverse')[0]\n",
    "        enz_model.reactions.get_by_id(eachsubid).bounds = (0, 0) \n",
    "        enz_model.reactions.get_by_id(r_id_new).bounds = (0, 0)  \n",
    "    else:\n",
    "        r_id_new=eachsubid+'_reverse'\n",
    "        enz_model.reactions.get_by_id(eachsubid).bounds = (0, 0) \n",
    "        enz_model.reactions.get_by_id(r_id_new).bounds = (0, 0) \n",
    "        \n",
    "enz_model.reactions.get_by_id(use_substrate).bounds = (-concentration, 0)\n",
    "enz_model.reactions.get_by_id(use_substrate+'_reverse').bounds = (0, concentration)\n",
    "\n",
    "enz_model_pfba_solution = cobra.flux_analysis.pfba(enz_model)\n",
    "# enz_model_pfba_solution = get_fluxes_detail_in_model(enz_model,enz_model_pfba_solution,fluxes_outfile,ecModel_output_file)\n",
    "print(enz_model_pfba_solution.fluxes[obj])\n",
    "\n",
    "# dlkcat 转录组0.03326546325676637 蛋白组 0.03137498657327576"
   ]
  },
  {
   "cell_type": "code",
   "execution_count": null,
   "id": "cc70a12d-c5ce-4b9b-a87a-94c5ed5c4d5d",
   "metadata": {},
   "outputs": [],
   "source": []
  }
 ],
 "metadata": {
  "kernelspec": {
   "display_name": "py39",
   "language": "python",
   "name": "py39"
  },
  "language_info": {
   "codemirror_mode": {
    "name": "ipython",
    "version": 3
   },
   "file_extension": ".py",
   "mimetype": "text/x-python",
   "name": "python",
   "nbconvert_exporter": "python",
   "pygments_lexer": "ipython3",
   "version": "3.9.2"
  }
 },
 "nbformat": 4,
 "nbformat_minor": 5
}
