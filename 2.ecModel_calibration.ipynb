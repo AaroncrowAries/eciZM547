{
 "cells": [
  {
   "cell_type": "markdown",
   "id": "de6a339d",
   "metadata": {},
   "source": [
    "## Import related functions"
   ]
  },
  {
   "cell_type": "code",
   "execution_count": 1,
   "id": "748d1c14",
   "metadata": {},
   "outputs": [],
   "source": [
    "import cobra\n",
    "import re \n",
    "import pandas as pd\n",
    "#from script.ECMpy_function import *\n",
    "import sys\n",
    "sys.path.append(r'./script/')\n",
    "from ECMpy_function import *"
   ]
  },
  {
   "cell_type": "markdown",
   "id": "0c1f8ce9",
   "metadata": {},
   "source": [
    "# Input and output files"
   ]
  },
  {
   "cell_type": "code",
   "execution_count": 2,
   "id": "814777ba",
   "metadata": {},
   "outputs": [],
   "source": [
    "f = 0.45387051337830087  # 蛋白组计算\n",
    "\n",
    "ptot = 0.605 # Z.mobilis PMID: 20967753 and PMID: 21092328\n",
    "# The approximated average saturation of enzyme.\n",
    "sigma = 0.5 # default\n",
    "concentration = 40 # glucose uptake rate of q = 41.8 mmol/gdw/h   10.1016/j.ymben.2019.05.006\n",
    "max_growth = 0.36  # \"Jacobson et al.(2019)\")\n",
    "lowerbound = 0   \n",
    "upperbound = round(ptot * f * sigma, 3) \n",
    "EC_max_file='./data/EC_kcat_max.json'# https://www.brenda-enzymes.org/brenda_download/file_download.php\n",
    "method='AutoPACMEN' #AutoPACMEN # AutoPACMEN_median # DLkcat # TurNup # UniKP\n",
    "use_substrate='EX_glc_D_e'\n",
    "\n",
    "obj='ZM_BIOMASS'\n",
    "\n",
    "#Originl ecmodel and result file\n",
    "ecModel_file=\"./model/iZM547_\"+ method +\".json\"\n",
    "fluxes_infile_ori = \"./analysis/\"+method+\"ECMpy_solution_ZM_BIOMASS_pfba.csv\"\n",
    "reaction_kcat_MW_file = \"./analysis/get_kcat_mw_by_%s/reaction_kcat_MW.csv\"%method\n",
    "need_change_reaction_list=[]\n",
    "changed_reaction_list=[]\n",
    "round_num=1\n",
    "reaction_kcat_mw = pd.read_csv(reaction_kcat_MW_file, index_col=0)\n",
    "\n",
    "#ecmodel and result file\n",
    "json_output_file = \"./model/iZM516_20230711_irr_enz_constraint_adj_\"+ method +\".json\"\n",
    "reaction_kcat_MW_outfile = './analysis/get_kcat_mw_by_%s/reaction_change_by_enzuse.csv'%method"
   ]
  },
  {
   "cell_type": "markdown",
   "id": "b7f3d628",
   "metadata": {},
   "source": [
    "# Calibration kcat according Enzyme usage "
   ]
  },
  {
   "cell_type": "code",
   "execution_count": 4,
   "id": "21730d4f",
   "metadata": {},
   "outputs": [],
   "source": [
    "#Calibration\n",
    "enz_model_obj=0\n",
    "while (enz_model_obj < max_growth and round_num<50):#maxium growth rate\n",
    "    [enz_model,reaction_kcat_mw,need_change_reaction_list, changed_reaction_list]=change_enz_model_by_enz_usage(ecModel_file,fluxes_infile_ori,EC_max_file,\\\n",
    "                                                    reaction_kcat_mw,need_change_reaction_list,changed_reaction_list,f, \\\n",
    "                                                    ptot, sigma, lowerbound, upperbound, json_output_file)\n",
    "    enz_model.objective=obj\n",
    "    #change original substrate in model\n",
    "    [ori_obj_id,ori_substrate_id_list,ori_sub_concentration,ori_ATPM]=get_model_substrate_obj(enz_model)\n",
    "    for eachsubid in ori_substrate_id_list:\n",
    "        if re.search('_reverse',eachsubid):\n",
    "            r_id_new=eachsubid.split('_reverse')[0]\n",
    "            enz_model.reactions.get_by_id(eachsubid).bounds = (0, 0) \n",
    "            enz_model.reactions.get_by_id(r_id_new).bounds = (0, 0)  \n",
    "        else:\n",
    "            r_id_new=eachsubid+'_reverse'\n",
    "            enz_model.reactions.get_by_id(eachsubid).bounds = (0, 0) \n",
    "            enz_model.reactions.get_by_id(r_id_new).bounds = (0, 0) \n",
    "            \n",
    "    enz_model.reactions.get_by_id(use_substrate).bounds = (-concentration, 0)\n",
    "    enz_model.reactions.get_by_id(use_substrate+'_reverse').bounds = (0, 0)\n",
    "\n",
    "    # enz_model_obj=enz_model.slim_optimize()\n",
    "    enz_model_obj = cobra.flux_analysis.pfba(enz_model)\n",
    "    print('Calibration round %s : '%round_num+str(enz_model_obj))\n",
    "    round_num=round_num+1\n",
    "    \n",
    "reaction_kcat_mw.to_csv(reaction_kcat_MW_outfile)"
   ]
  },
  {
   "cell_type": "code",
   "execution_count": null,
   "id": "461cd945",
   "metadata": {},
   "outputs": [],
   "source": []
  }
 ],
 "metadata": {
  "kernelspec": {
   "display_name": "Python 3 (ipykernel)",
   "language": "python",
   "name": "python3"
  },
  "language_info": {
   "codemirror_mode": {
    "name": "ipython",
    "version": 3
   },
   "file_extension": ".py",
   "mimetype": "text/x-python",
   "name": "python",
   "nbconvert_exporter": "python",
   "pygments_lexer": "ipython3",
   "version": "3.11.4"
  },
  "vscode": {
   "interpreter": {
    "hash": "a6e0d8b250351d3b30989470297d7a84ebc09417abaa29b208c8f69c53951b79"
   }
  }
 },
 "nbformat": 4,
 "nbformat_minor": 5
}
